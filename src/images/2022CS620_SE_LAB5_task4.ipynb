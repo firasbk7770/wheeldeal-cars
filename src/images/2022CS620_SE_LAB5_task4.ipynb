{
 "cells": [
  {
   "cell_type": "code",
   "execution_count": null,
   "metadata": {},
   "outputs": [],
   "source": [
    "maze = [\n",
    "    [0, 0, 1, 0],\n",
    "    [1, 0, 1, 0],\n",
    "    [0, 0, 0, 0],\n",
    "    [1, 1, 0, 0]\n",
    "]\n",
    "def Short_Path(maze):\n",
    "    \n",
    "    n = len(maze)\n",
    "    m = len(maze[0])\n",
    "    \n",
    "    \n",
    "    if maze[0][0] == 1 or maze[n-1][m-1] == 1:\n",
    "        return -1\n",
    "    \n",
    "    direction = [(0, 1), (1, 0), (0, -1), (-1, 0)]\n",
    "    \n",
    "    \n",
    "    queue = deque([(0, 0, 1)])\n",
    "    \n",
    "    visited = [[False] * m for _ in range(n)]\n",
    "    visited[0][0] = True\n",
    "    \n",
    "    \n",
    "    while queue:\n",
    "        row, cols, steps = queue.popleft()\n",
    "        \n",
    "        \n",
    "        if row == n - 1 and cols == m - 1:\n",
    "            return steps-1\n",
    "        \n",
    "       \n",
    "        for drow, dcols in direction:\n",
    "            new_row, new_col = row + drow, cols + dcols\n",
    "            \n",
    "            \n",
    "            if 0 <= new_row < n and 0 <= new_col < m and not visited[new_row][new_col] and maze[new_row][new_col] == 0:\n",
    "                queue.append((new_row, new_col, steps + 1))\n",
    "                visited[new_row][new_col] = True\n",
    "    \n",
    "    \n",
    "    return -1\n",
    "\n",
    "print(Short_Path(maze))"
   ]
  }
 ],
 "metadata": {
  "kernelspec": {
   "display_name": "Python 3",
   "language": "python",
   "name": "python3"
  },
  "language_info": {
   "codemirror_mode": {
    "name": "ipython",
    "version": 3
   },
   "file_extension": ".py",
   "mimetype": "text/x-python",
   "name": "python",
   "nbconvert_exporter": "python",
   "pygments_lexer": "ipython3",
   "version": "3.7.1"
  }
 },
 "nbformat": 4,
 "nbformat_minor": 2
}
